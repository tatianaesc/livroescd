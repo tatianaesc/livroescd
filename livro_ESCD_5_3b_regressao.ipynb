{
  "nbformat": 4,
  "nbformat_minor": 0,
  "metadata": {
    "colab": {
      "provenance": [],
      "authorship_tag": "ABX9TyP6O3r04ik/fVbnFey04HUw",
      "include_colab_link": true
    },
    "kernelspec": {
      "name": "python3",
      "display_name": "Python 3"
    },
    "language_info": {
      "name": "python"
    }
  },
  "cells": [
    {
      "cell_type": "markdown",
      "metadata": {
        "id": "view-in-github",
        "colab_type": "text"
      },
      "source": [
        "<a href=\"https://colab.research.google.com/github/tatianaesc/livroescd/blob/main/livro_ESCD_5_3b_regressao.ipynb\" target=\"_parent\"><img src=\"https://colab.research.google.com/assets/colab-badge.svg\" alt=\"Open In Colab\"/></a>"
      ]
    },
    {
      "cell_type": "markdown",
      "source": [
        "# Livro Engenharia de Software para Ciência de Dados (Ed. Casa do Código)\n",
        "Marcos Kalinowski, Tatiana Escovedo, Hugo Villamizar e Hélio Lopes\n",
        "\n",
        "### Exemplo Prático de Regressão em Python"
      ],
      "metadata": {
        "id": "gTsPa80t6YQ1"
      }
    },
    {
      "cell_type": "markdown",
      "source": [
        "Para ilustrar como aplicamos os algoritmos de Machine Learning de Regressão na prática, vamos examinar o dataset Diabetes (para regressão), disponível em https://www4.stat.ncsu.edu/~boos/var.select/diabetes.html. Este dataset contém 10 variáveis de linha de base ​​sobre 442 pacientes com diabetes: idade, sexo, índice de massa corporal, pressão arterial média e seis medições de soro sanguíneo. A variável target é uma medida quantitativa da progressão da doença um ano após a linha de base, ou seja, é um problema de Regressão.\n",
        "\n",
        "Vejamos um exemplo de código em Python usando a biblioteca Scikit-learn (https://scikit-learn.org/), uma das bibliotecas Python mais utilizadas para Machine Learning. Primeiramente, vamos carregar o dataset (que está disponível também na biblioteca Scikit-learn) e separar em bases de treino e teste através do método holdout. Em seguida, para a base de treino, vamos avaliar o MSE e o RMSE dos modelos treinados com os algoritmos Regressão Linear, Regressão Linear com Regularização Ridge, Regressão Linear com Regularização Lasso, KNN, Árvore de Regressão e SVM, utilizando sua configuração padrão da biblioteca Scikit-learn, ou seja, sem variar seus hiperparâmetros. Para uma melhor avaliação, utilizaremos o método de validação cruzada (10 folds) e compararemos os resultados graficamente através de boxplots.\n",
        "\n",
        "Todo o código está comentado, para facilitar o entendimento. Iniciaremos esta prática importando os pacotes necessários para o notebook:"
      ],
      "metadata": {
        "id": "Pd94oa0_6cQl"
      }
    },
    {
      "cell_type": "code",
      "execution_count": 1,
      "metadata": {
        "id": "otlzZQdV6UqZ"
      },
      "outputs": [],
      "source": [
        " # Configuração para não exibir os warnings\n",
        "import warnings\n",
        "warnings.filterwarnings(\"ignore\")\n",
        " \n",
        "# Imports necessários\n",
        "import pandas as pd\n",
        "import numpy as np\n",
        "import matplotlib.pyplot as plt\n",
        "from sklearn.datasets import load_diabetes # para importar o dataset diabetes\n",
        "from sklearn.model_selection import train_test_split # para particionar em bases de treino e teste (holdout)\n",
        "from sklearn.model_selection import KFold # para preparar os folds da validação cruzada\n",
        "from sklearn.model_selection import cross_val_score # para executar a validação cruzada\n",
        "from sklearn.metrics import mean_squared_error # métrica de avaliação MSE\n",
        "from sklearn.linear_model import LinearRegression # algoritmo Regressão Linear\n",
        "from sklearn.linear_model import Ridge # algoritmo Regularização Ridge\n",
        "from sklearn.linear_model import Lasso # algoritmo Regularização Lasso\n",
        "from sklearn.neighbors import KNeighborsRegressor # algoritmo KNN\n",
        "from sklearn.tree import DecisionTreeRegressor # algoritmo Árvore de Regressão\n",
        "from sklearn.svm import SVR # algoritmo SVM"
      ]
    },
    {
      "cell_type": "markdown",
      "source": [
        "A seguir, iremos preparar os dados. Iremos carregar o dataset a partir da bilbioteca Sckit-learn, aplicar o holdout para efetuar a divisão em bases de treino (80%) e teste (20%) e separar em 10 folds usando a validação cruzada."
      ],
      "metadata": {
        "id": "MCatn_V760SQ"
      }
    },
    {
      "cell_type": "code",
      "source": [
        " # Preparação dos dados\n",
        " \n",
        "diabetes = load_diabetes()\n",
        "dataset = pd.DataFrame(diabetes.data, columns=diabetes.feature_names) # conversão para dataframe\n",
        "dataset['target'] = diabetes.target # adição da coluna target\n",
        " \n",
        "# Separação em bases de treino e teste (holdout)\n",
        "array = dataset.values\n",
        "X = array[:,0:10] # atributos\n",
        "y = array[:,10] # classe (target)\n",
        " \n",
        "X_train, X_test, y_train, y_test = train_test_split(X, y, test_size=0.20, random_state=7) # faz a divisão\n",
        " \n",
        "# Criando os folds para a validação cruzada\n",
        "num_particoes = 10 # número de folds da validação cruzada\n",
        "kfold = KFold(n_splits=num_particoes, shuffle=True, random_state=7) # faz o particionamento em 10 folds"
      ],
      "metadata": {
        "id": "imNx1FY260ZC"
      },
      "execution_count": 2,
      "outputs": []
    },
    {
      "cell_type": "markdown",
      "source": [
        "Em seguida, passaremos para a etapa de modelagem. Definiremos uma semente global para esta célula de código (a semente é necessária para garantir a reprodutibilidade deste código, com os mesmos resultados) e iremos criar os modelos com os algoritmos Regressão Linear, Regressão Linear com Regularização Ridge, Regressão Linear com Regularização Lasso, KNN, Árvore de Regressão e SVM, adicionando-os numa lista. Depois, cada um destes modelos será treinado e avaliado com a base de treino, usando a validação cruzada 10-fold. O resultado médio da acurácia de cada modelo será impresso, bem como um gráfico boxplot sumarizando os resultados das 10 execuções (correspondentes aos 10 folds)."
      ],
      "metadata": {
        "id": "JAcfUt2360e5"
      }
    },
    {
      "cell_type": "code",
      "source": [
        "# Modelagem\n",
        " \n",
        "# Definindo uma seed global para esta célula de código\n",
        "np.random.seed(7) \n",
        " \n",
        "# Listas para armazenar os modelos, os resultados e os nomes dos modelos\n",
        "models = []\n",
        "results = []\n",
        "names = []\n",
        " \n",
        "# Preparando os modelos e adicionando-os em uma lista\n",
        "models.append(('LR', LinearRegression()))\n",
        "models.append(('Ridge', Ridge()))\n",
        "models.append(('Lasso', Lasso()))\n",
        "models.append(('KNN', KNeighborsRegressor()))\n",
        "models.append(('CART', DecisionTreeRegressor()))\n",
        "models.append(('SVM', SVR()))\n",
        " \n",
        "# Avaliando um modelo por vez\n",
        "for name, model in models:\n",
        "  cv_results = cross_val_score(model, X_train, y_train, cv=kfold, scoring='neg_mean_squared_error')\n",
        "  results.append(cv_results)\n",
        "  names.append(name)\n",
        "  # imprime MSE, desvio padrão do MSE e RMSE dos 10 resultados da validação cruzada\n",
        "  msg = \"%s: MSE %0.2f (%0.2f) - RMSE %0.2f\" % (name, abs(cv_results.mean()), cv_results.std(), np.sqrt(abs(cv_results.mean())))\n",
        "  print(msg)\n",
        " \n",
        "# Boxplot de comparação dos modelos\n",
        "fig = plt.figure() \n",
        "fig.suptitle('Comparação do MSE dos Modelos') \n",
        "ax = fig.add_subplot(111) \n",
        "plt.boxplot(results) \n",
        "ax.set_xticklabels(names) \n",
        "plt.show()"
      ],
      "metadata": {
        "colab": {
          "base_uri": "https://localhost:8080/",
          "height": 398
        },
        "id": "4DyQdFEu60lX",
        "outputId": "c06f929f-1799-49b3-883a-d60b99d32a0f"
      },
      "execution_count": 3,
      "outputs": [
        {
          "output_type": "stream",
          "name": "stdout",
          "text": [
            "LR: MSE 3066.48 (612.06) - RMSE 55.38\n",
            "Ridge: MSE 3566.43 (805.55) - RMSE 59.72\n",
            "Lasso: MSE 3948.90 (891.00) - RMSE 62.84\n",
            "KNN: MSE 3522.14 (721.76) - RMSE 59.35\n",
            "CART: MSE 6431.26 (1584.05) - RMSE 80.20\n",
            "SVM: MSE 5285.08 (1186.19) - RMSE 72.70\n"
          ]
        },
        {
          "output_type": "display_data",
          "data": {
            "text/plain": [
              "<Figure size 432x288 with 1 Axes>"
            ],
            "image/png": "[encoded data removed]"
          },
          "metadata": {
            "needs_background": "light"
          }
        }
      ]
    },
    {
      "cell_type": "markdown",
      "source": [
        "Analisando os resultados, verificamos que, considerando o MSE (e, consequentemente, o RMSE), o modelo treinado com a Árvore de Regressão apresentou os melhores resultados (valores de erro menores) indicando que possivelmente seguiríamos com a Árvore de Regressão como escolha de algoritmo. Neste caso, construiremos um novo modelo, treinado com toda a base de treino. Este modelo será avaliado utilizando a base de teste:\n"
      ],
      "metadata": {
        "id": "qBFfNBWo60qn"
      }
    },
    {
      "cell_type": "code",
      "source": [
        "# Criando um modelo com todo o conjunto de treino\n",
        "model = DecisionTreeRegressor()\n",
        "model.fit(X_train, y_train)\n",
        " \n",
        "# Fazendo as predições com o conjunto de teste\n",
        "predictions = model.predict(X_test) \n",
        " \n",
        "# Estimando o MSE e o RMSE no conjunto de teste\n",
        "mse = mean_squared_error(y_test, predictions)\n",
        "print(\"MSE %0.2f\" % mse)\n",
        "print(\"RMSE %0.2f\" % np.sqrt(abs(mse)))"
      ],
      "metadata": {
        "colab": {
          "base_uri": "https://localhost:8080/"
        },
        "id": "cjNhI8uP60wK",
        "outputId": "46fc8597-7288-4664-f7d5-0e0789271c90"
      },
      "execution_count": 4,
      "outputs": [
        {
          "output_type": "stream",
          "name": "stdout",
          "text": [
            "MSE 4512.10\n",
            "RMSE 67.17\n"
          ]
        }
      ]
    },
    {
      "cell_type": "markdown",
      "source": [
        "Assim como no exemplo do problema de classificação, ressaltamos que esse é um exemplo simples, apenas para ilustrar a aplicação de algoritmos de Machine Learning em problemas de regressão. Em problemas reais (com dados mais \"sujos\" e complexos), iríamos provavelmente trabalhar com algumas operações de pré-processamento de dados (tais como Normalização e Padronização, para dados quantitativos, e One-Hot-Encoding, para dados qualitativos nominais) e também experimentar variar os hiperparâmetros dos algoritmos, o que resultaria em um código mais complexo, como veremos nas próximas seções."
      ],
      "metadata": {
        "id": "ESMkx8X0603C"
      }
    }
  ]
}