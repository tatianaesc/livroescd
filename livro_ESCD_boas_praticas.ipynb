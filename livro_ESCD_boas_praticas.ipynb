{
  "nbformat": 4,
  "nbformat_minor": 0,
  "metadata": {
    "colab": {
      "provenance": [],
      "include_colab_link": true
    },
    "kernelspec": {
      "name": "python3",
      "display_name": "Python 3"
    },
    "language_info": {
      "name": "python"
    }
  },
  "cells": [
    {
      "cell_type": "markdown",
      "metadata": {
        "id": "view-in-github",
        "colab_type": "text"
      },
      "source": [
        "<a href=\"https://colab.research.google.com/github/tatianaesc/livroescd/blob/main/livro_ESCD_boas_praticas.ipynb\" target=\"_parent\"><img src=\"https://colab.research.google.com/assets/colab-badge.svg\" alt=\"Open In Colab\"/></a>"
      ]
    },
    {
      "cell_type": "markdown",
      "source": [
        "# Livro Engenharia de Software para Ciência de Dados (Ed. Casa do Código)\n",
        "Marcos Kalinowski, Tatiana Escovedo, Hugo Villamizar e Hélio Lopes\n",
        "\n",
        "### Boas Práticas de Projeto e Construção de Sistemas"
      ],
      "metadata": {
        "id": "ugQEtRTCW5Ly"
      }
    },
    {
      "cell_type": "markdown",
      "source": [
        "## SOLID"
      ],
      "metadata": {
        "id": "TgfO8xRrYzGv"
      }
    },
    {
      "cell_type": "markdown",
      "source": [
        "### Princípio da Responsabilidade Única"
      ],
      "metadata": {
        "id": "OexdxIlfZnKT"
      }
    },
    {
      "cell_type": "code",
      "execution_count": null,
      "metadata": {
        "id": "bl4HrTWUWyKz"
      },
      "outputs": [],
      "source": [
        "class Animal:\n",
        "\n",
        "    def __init__(self, nome):\n",
        "        self.__nome = nome\n",
        "\n",
        "    def get_nome(self):\n",
        "        return self.__nome\n",
        "        \n",
        "    def salvar(self):\n",
        "        # Salva o animal no banco de dados\n",
        "        pass"
      ]
    },
    {
      "cell_type": "code",
      "source": [
        "class Animal:\n",
        "\n",
        "    def __init__(self, nome):\n",
        "        self.__nome = nome\n",
        "\n",
        "    def get_nome(self):\n",
        "        return self.__nome\n",
        "\n",
        "\n",
        "class AnimalDAO:\n",
        "    def salvar(self, animal: Animal):\n",
        "        # Salva o animal no banco de dados\n",
        "        pass\n"
      ],
      "metadata": {
        "id": "v1NSAyoMZfbr"
      },
      "execution_count": null,
      "outputs": []
    },
    {
      "cell_type": "markdown",
      "source": [
        "### Princípio Aberto/Fechado"
      ],
      "metadata": {
        "id": "dXdAhzoXZra6"
      }
    },
    {
      "cell_type": "code",
      "source": [
        "class Animal:\n",
        "\n",
        "    def __init__(self, nome):\n",
        "        self.__nome = nome\n",
        "        \n",
        "    def get_nome(self):\n",
        "        return self.__nome\n",
        "\n",
        "    def faz_som(self):\n",
        "        if self.__nome == \"Cachorro\":\n",
        "            print(\"Au Au\")\n",
        "        if self.__nome == \"Gato\":\n",
        "            print(\"Miau\")"
      ],
      "metadata": {
        "id": "H61cjaEDZtZB"
      },
      "execution_count": null,
      "outputs": []
    },
    {
      "cell_type": "code",
      "source": [
        "class Animal:\n",
        "\n",
        "    def __init__(self, nome):\n",
        "        self.__nome = nome\n",
        "\n",
        "    def get_nome(self):\n",
        "        return self.__nome\n",
        "\n",
        "    def faz_som(self):\n",
        "        pass\n",
        "\n",
        "\n",
        "class Cachorro(Animal):\n",
        "    def faz_som(self):\n",
        "        print(\"Au Au\")\n",
        "\n",
        "\n",
        "class Gato(Animal):\n",
        "    def faz_som(self):\n",
        "        print(\"Miau\")"
      ],
      "metadata": {
        "id": "c3a_RoEuZtc1"
      },
      "execution_count": null,
      "outputs": []
    },
    {
      "cell_type": "markdown",
      "source": [
        "### Princípio da Substituição de Liskov"
      ],
      "metadata": {
        "id": "A-8HckJQa-BW"
      }
    },
    {
      "cell_type": "code",
      "source": [
        "class Animal:\n",
        "    pass\n",
        "\n",
        "\n",
        "class Cachorro(Animal):\n",
        "\n",
        "    def latir(self):\n",
        "        print(\"Au Au\")\n",
        "\n",
        "\n",
        "class Gato(Animal):\n",
        "\n",
        "    def miar(self):\n",
        "        print(\"Miau\")\n",
        "\n",
        "\n",
        "class Dono:\n",
        "\n",
        "    def passear(cachorro: Cachorro):\n",
        "        cachorro.latir()"
      ],
      "metadata": {
        "id": "5f1F4FVaa_9v"
      },
      "execution_count": null,
      "outputs": []
    },
    {
      "cell_type": "code",
      "source": [
        "class Animal:\n",
        "    \n",
        "    def faz_som(self):\n",
        "        pass \n",
        "\n",
        "class Cachorro(Animal):\n",
        "\n",
        "    def faz_som(self):\n",
        "        __latir()\n",
        "\n",
        "    def __latir(self):\n",
        "        print(\"Au Au\")\n",
        "\n",
        "\n",
        "class Gato(Animal):\n",
        "\n",
        "    def faz_som(self):\n",
        "        __miar()\n",
        "    \n",
        "    def __miar(self):\n",
        "        print(\"Miau\")\n",
        "\n",
        "\n",
        "class Dono:\n",
        "\n",
        "    def passear(animal: Animal):\n",
        "        animal.faz_som()"
      ],
      "metadata": {
        "id": "ODN8t9Mfbnx2"
      },
      "execution_count": null,
      "outputs": []
    },
    {
      "cell_type": "markdown",
      "source": [
        "### Princípio da Segregação de Interfaces"
      ],
      "metadata": {
        "id": "rWqkFWRPcDbx"
      }
    },
    {
      "cell_type": "code",
      "source": [
        "class ImpressoraFazTudo:\n",
        "\n",
        "    def imprime(self):\n",
        "        pass\n",
        "\n",
        "    def digitaliza(self):\n",
        "        pass\n",
        "        \n",
        "    def envia_fax(self):\n",
        "        pass"
      ],
      "metadata": {
        "id": "Z5wjLE97cN2U"
      },
      "execution_count": null,
      "outputs": []
    },
    {
      "cell_type": "code",
      "source": [
        "class ImpressoraMultifuncional(ImpressoraFazTudo):\n",
        "\n",
        "    def imprime(self):\n",
        "        pass\n",
        "\n",
        "    def escaneia(self):\n",
        "        pass\n",
        "        \n",
        "    def envia_fax(self):\n",
        "        pass"
      ],
      "metadata": {
        "id": "6y6swEsKcQQL"
      },
      "execution_count": null,
      "outputs": []
    },
    {
      "cell_type": "code",
      "source": [
        "class Impressora:\n",
        "\n",
        "    def imprime(self):\n",
        "        pass\n",
        "        \n",
        "\n",
        "class Digitalizadora:\n",
        "\n",
        "    def digitaliza(self):\n",
        "        pass\n",
        "        \n",
        "class Fax:\n",
        "    \n",
        "    def envia_fax(self):\n",
        "        pass"
      ],
      "metadata": {
        "id": "4NrHEtCLcQSj"
      },
      "execution_count": null,
      "outputs": []
    },
    {
      "cell_type": "code",
      "source": [
        "class ImpressoraMultifuncional(Impressora, Digitalizadora, Fax):\n",
        "\n",
        "    def imprime(self):\n",
        "        pass\n",
        "\n",
        "    def escaneia(self):\n",
        "        pass\n",
        "\n",
        "    def envia_fax(self):\n",
        "        pass\n",
        "\n",
        "\n",
        "# A classe ImpressoraPadrao pode utilizar somente o método que precisa:\n",
        "class ImpressoraPadrao(Impressora):\n",
        "\n",
        "    def imprime(self):\n",
        "        pass"
      ],
      "metadata": {
        "id": "maa4xR_pcQUx"
      },
      "execution_count": null,
      "outputs": []
    },
    {
      "cell_type": "markdown",
      "source": [
        "### Princípio da Inversão de Dependências"
      ],
      "metadata": {
        "id": "yj32dn-pchnp"
      }
    },
    {
      "cell_type": "code",
      "source": [
        "class Animal:\n",
        "\n",
        "    def faz_som(self):\n",
        "        pass\n",
        "\n",
        "\n",
        "class Cachorro(Animal):\n",
        "\n",
        "    def faz_som(self):\n",
        "        latir()    \n",
        "\n",
        "    def latir(self):\n",
        "        print(\"Au Au\")    \n",
        "\n",
        "\n",
        "class Gato(Animal):\n",
        "\n",
        "    def faz_som(self):\n",
        "        miar()    \n",
        "\n",
        "    def miar(self):\n",
        "        print(\"Miau\")"
      ],
      "metadata": {
        "id": "IvBU-KiyckUA"
      },
      "execution_count": null,
      "outputs": []
    },
    {
      "cell_type": "code",
      "source": [
        "class Dono: \n",
        "    \n",
        "    def passear(cachorro: Cachorro): \n",
        "        cachorro.latir()  "
      ],
      "metadata": {
        "id": "elBQpPv_ckWm"
      },
      "execution_count": null,
      "outputs": []
    },
    {
      "cell_type": "code",
      "source": [
        "class Dono: \n",
        "    \n",
        "  def passear(animal: Animal): \n",
        "        animal.faz_som() "
      ],
      "metadata": {
        "id": "3mEgwyiockb3"
      },
      "execution_count": null,
      "outputs": []
    },
    {
      "cell_type": "markdown",
      "source": [
        "## Guia de Estilos"
      ],
      "metadata": {
        "id": "zGLlCO2mcx5N"
      }
    },
    {
      "cell_type": "code",
      "source": [
        "import this"
      ],
      "metadata": {
        "id": "Or2bZKvJc2Wv",
        "outputId": "099e84b3-eb2c-46d9-94dd-a51f02372ff6",
        "colab": {
          "base_uri": "https://localhost:8080/"
        }
      },
      "execution_count": null,
      "outputs": [
        {
          "output_type": "stream",
          "name": "stdout",
          "text": [
            "The Zen of Python, by Tim Peters\n",
            "\n",
            "Beautiful is better than ugly.\n",
            "Explicit is better than implicit.\n",
            "Simple is better than complex.\n",
            "Complex is better than complicated.\n",
            "Flat is better than nested.\n",
            "Sparse is better than dense.\n",
            "Readability counts.\n",
            "Special cases aren't special enough to break the rules.\n",
            "Although practicality beats purity.\n",
            "Errors should never pass silently.\n",
            "Unless explicitly silenced.\n",
            "In the face of ambiguity, refuse the temptation to guess.\n",
            "There should be one-- and preferably only one --obvious way to do it.\n",
            "Although that way may not be obvious at first unless you're Dutch.\n",
            "Now is better than never.\n",
            "Although never is often better than *right* now.\n",
            "If the implementation is hard to explain, it's a bad idea.\n",
            "If the implementation is easy to explain, it may be a good idea.\n",
            "Namespaces are one honking great idea -- let's do more of those!\n"
          ]
        }
      ]
    },
    {
      "cell_type": "code",
      "source": [
        "def calcular_equacao_quadratica(a, b, c, x):\n",
        "    # Calcular a solução para uma equação quadrática\n",
        "    #\n",
        "    # Há sempre duas soluções para uma equação quadrática, x_1 e x_2\n",
        "    x_1 = (-b+(b**2-4*a*c)**(1/2))/(2*a)\n",
        "    x_2 = (-b-(b**2-4*a*c)**(1/2))/(2*a)\n",
        "    return x_1, x_1"
      ],
      "metadata": {
        "id": "MyJ80b4S8B2y"
      },
      "execution_count": 1,
      "outputs": []
    },
    {
      "cell_type": "code",
      "source": [
        "idade = 7  # este é um comentário inline\n",
        "nome = 'Tatiana Escovedo'  # nome do estudante"
      ],
      "metadata": {
        "id": "1B80syiJ8B-G"
      },
      "execution_count": 3,
      "outputs": []
    },
    {
      "cell_type": "code",
      "source": [
        "ct_n = len([1,2,3,4,5])  # Ruim\n",
        "quantidade_de_numeros = len([1,2,3,4,5])  # Bom\n",
        "nmdapsa = 'Josivaldo'  # Ruim\n",
        "nome_da_pessoa = 'Josivaldo'  # Bom"
      ],
      "metadata": {
        "id": "gQ9n4Uq38CC7"
      },
      "execution_count": 2,
      "outputs": []
    },
    {
      "cell_type": "code",
      "source": [
        "def ltTParaMl(x): # Ruim\n",
        "    return x * 1000\n",
        "\n",
        "def transforma_litro_para_mililitro(valor_em_lt): # Bom\n",
        "    return valor_em_lt * 1000"
      ],
      "metadata": {
        "id": "lbQnA8eA9Mdw"
      },
      "execution_count": 4,
      "outputs": []
    },
    {
      "cell_type": "code",
      "source": [
        "soma = 100\n",
        "variavel = 100\n",
        "\n",
        "def faca_algo():\n",
        "    pass"
      ],
      "metadata": {
        "id": "m-ZCWCio9ics"
      },
      "execution_count": 9,
      "outputs": []
    },
    {
      "cell_type": "code",
      "source": [
        "# Ruim\n",
        "if soma > 1250:  # O que significa este número ?\n",
        "    faca_algo()\n",
        "\n",
        "# Bom\n",
        "MINIMO_NECESSARIO_PARA_DESCONTO = 1250 # Bom\n",
        "if soma > MINIMO_NECESSARIO_PARA_DESCONTO:\n",
        "    faca_algo()\n",
        "\n",
        "# Ruim\n",
        "if variavel in (1,15,99,120):\n",
        "    raise Exception('Não aceito')\n",
        "\n",
        "# Bom\n",
        "planos_nao_permitidos = (1,15,99,120)\n",
        "if variavel in planos_nao_permitidos:\n",
        "    raise Exception('Não aceito')"
      ],
      "metadata": {
        "id": "LO8MpnBj9Vin"
      },
      "execution_count": 10,
      "outputs": []
    },
    {
      "cell_type": "code",
      "source": [
        "class Pessoa():\n",
        "    def falar(self):\n",
        "        print('Oi')\n",
        "\n",
        "# Ruim\n",
        "p1 = Pessoa()\n",
        "p2 = Pessoa()\n",
        "\n",
        "# Bom\n",
        "pai = Pessoa()\n",
        "filho = Pessoa()"
      ],
      "metadata": {
        "id": "5dPfr3vU9uHb"
      },
      "execution_count": 11,
      "outputs": []
    },
    {
      "cell_type": "code",
      "source": [
        "request = 'A'\n",
        "\n",
        "def get_users_list():\n",
        "    pass"
      ],
      "metadata": {
        "id": "DnxrZY_B-C0P"
      },
      "execution_count": 14,
      "outputs": []
    },
    {
      "cell_type": "code",
      "source": [
        "# Ruim\n",
        "def lista_usuarios():\n",
        "    if request not in ('POST','PUT','DELETE'):\n",
        "        return get_users_list()\n",
        "    else:\n",
        "        return \"Method not allowed\"\n",
        "\n",
        "# Bom\n",
        "def lista_usuarios():\n",
        "    if request.method == 'GET':\n",
        "        return get_users_list()\n",
        "    return \"Method not allowed\""
      ],
      "metadata": {
        "id": "9hpQI1st94_B"
      },
      "execution_count": 15,
      "outputs": []
    },
    {
      "cell_type": "code",
      "source": [
        "# Ruim\n",
        "nao_deve_processar = True\n",
        "if not nao_deve_processar:\n",
        "    # faz algo aqui\n",
        "    pass\n",
        "# Bom\n",
        "deve_processar = True\n",
        "# ou\n",
        "deve_processar = False\n",
        "if deve_processar:\n",
        "    # faz algo aqui\n",
        "    pass\n",
        "# ou\n",
        "if not deve_processar:\n",
        "    # faz algo aqui\n",
        "    pass"
      ],
      "metadata": {
        "id": "3arPv6lO-MFE"
      },
      "execution_count": 17,
      "outputs": []
    },
    {
      "cell_type": "code",
      "source": [
        "# Ruim\n",
        "def contem_letra(letra, nome):\n",
        "    if letra in nome:\n",
        "        return True\n",
        "    else:\n",
        "        return False\n",
        "\n",
        "# Bom\n",
        "def contem_letra(letra, nome):\n",
        "    return letra in nome\n",
        "# ou\n",
        "# Ruim\n",
        "if conta.numero in get_lista_de_contas_bloqueadas():\n",
        "    conta.bloqueada = True\n",
        "# Bom\n",
        "conta.bloqueada = (conta.numero in get_lista_de_contas_bloqueadas())"
      ],
      "metadata": {
        "id": "jfgyxvWH-d-x"
      },
      "execution_count": null,
      "outputs": []
    },
    {
      "cell_type": "code",
      "source": [
        "# Ruim\n",
        "def metodo_com_muitos_parametros(\n",
        "    nome, idade, data_nascimento, salario, funcao):\n",
        "    # faz algo aqui...\n",
        "    pass\n",
        "\n",
        "# Bom\n",
        "def metodo_com_muitos_parametros(dados_do_usuario):\n",
        "    nome = dados_do_usuario.get('nome', None)\n",
        "    # faz algo aqui...\n",
        "    pass"
      ],
      "metadata": {
        "id": "R-Ij9CHG_HPp"
      },
      "execution_count": null,
      "outputs": []
    },
    {
      "cell_type": "code",
      "source": [
        "# Ruim\n",
        "# verifica se a venda entra na regra do desconto promocional\n",
        "if venda.valor > 120 and venda.itens > 12:\n",
        "    venda.desconto = 12\n",
        "# Bom\n",
        "if venda.permite_desconto_promocional():\n",
        "    venda.aplica_desconto_promocional()"
      ],
      "metadata": {
        "id": "greHXIJO_iMb"
      },
      "execution_count": null,
      "outputs": []
    },
    {
      "cell_type": "code",
      "source": [
        "def soma(a,b):\n",
        "    # retorna a soma de a com b \n",
        "    return a + b"
      ],
      "metadata": {
        "id": "0BSJIGZK_t1l"
      },
      "execution_count": null,
      "outputs": []
    }
  ]
}