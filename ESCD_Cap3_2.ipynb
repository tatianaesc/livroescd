{
  "nbformat": 4,
  "nbformat_minor": 0,
  "metadata": {
    "colab": {
      "name": "ESCD-Cap3.2.ipynb",
      "provenance": [],
      "toc_visible": true
    },
    "kernelspec": {
      "name": "python3",
      "display_name": "Python 3"
    },
    "language_info": {
      "name": "python"
    }
  },
  "cells": [
    {
      "cell_type": "markdown",
      "source": [
        "# Livro Engenharia de Software para Ciência de Dados\n",
        "\n",
        "---\n",
        "\n",
        "## Capítulo 3. Programação em Ciência de Dados\n",
        "### 3.2. Introdução à Orientação a Objetos"
      ],
      "metadata": {
        "id": "nPMIS6Pb98p9"
      }
    },
    {
      "cell_type": "markdown",
      "source": [
        "### Exemplo de código 1: Definição de Classe e instanciação dos objetos"
      ],
      "metadata": {
        "id": "532Io8bt8c-q"
      }
    },
    {
      "cell_type": "code",
      "source": [
        "# Definição da classe\n",
        "class Aluno:\n",
        "    nome = \"Zé\"\n",
        "    idade = 18\n",
        "\n",
        "    def dobra_idade(self):\n",
        "        return self.idade * 2\n",
        "\n",
        "\n",
        "# Instanciação dos objetos: criando (instanciando) 2 objetos do tipo (da classe) Aluno\n",
        "\n",
        "# a variável aluno_1 guarda um objeto da classe Aluno, que contém nome, idade e dobra_idade\n",
        "aluno_1 = Aluno()\n",
        "aluno_1.nome = \"Maria\" # definindo que o nome do aluno_1 é \"Maria\"\n",
        "\n",
        "# a variável aluno_2 guarda OUTRO objeto da classe Aluno, que contém nome, idade e dobra_idade\n",
        "aluno_2 = Aluno()\n",
        "aluno_2.idade = 21 # definindo que a idade do aluno_2 é 21\n",
        "\n",
        "print(aluno_1.nome) # imprime Maria (valor que definimos)\n",
        "print(aluno_2.nome) # imprime Zé (valor default)\n",
        "\n",
        "print(aluno_1.dobra_idade()) # dobra a idade 18 (valor default)\n",
        "print(aluno_2.dobra_idade()) # dobra a idade 21 (valor que definimos)\n",
        "\n",
        "# ao mudar o valor de nome em aluno_1, o aluno_2 continua inalterado\n",
        "aluno_1.nome = \"Ana\"\n",
        "print(\"Nome do aluno_1:\", aluno_1.nome)\n",
        "print(\"Nome do aluno_2:\", aluno_2.nome)"
      ],
      "metadata": {
        "id": "owosvqDF8hJj"
      },
      "execution_count": null,
      "outputs": []
    },
    {
      "cell_type": "markdown",
      "source": [
        "### Exemplo de código 2: Parâmetro self"
      ],
      "metadata": {
        "id": "QStfEC9Z8xL4"
      }
    },
    {
      "cell_type": "code",
      "source": [
        "class Calculadora:\n",
        "    valor = 5\n",
        "\n",
        "    def add(self, numero):\n",
        "        # não podemos chamar a variável \"valor\" sem \"self\" porque \"valor\" é uma variável da classe Calculadora\n",
        "        return self.valor + numero;\n",
        "\n",
        "total = Calculadora()\n",
        "print(\"total = %d\" % total.add(3)) # self pegará o valor 5 e o valor 3 irá para numero"
      ],
      "metadata": {
        "id": "ea5EuClH8xSE"
      },
      "execution_count": null,
      "outputs": []
    },
    {
      "cell_type": "markdown",
      "source": [
        "### Exemplo de código 3: Método \\_\\_init__"
      ],
      "metadata": {
        "id": "bhLuHlx882_M"
      }
    },
    {
      "cell_type": "code",
      "source": [
        "class Carro:\n",
        "\n",
        "    def __init__(self):\n",
        "        self.cor = \"preto\"\n",
        "\n",
        "# um novo carro é criado com cor = \"preto\"\n",
        "carro_1 = Carro()\n",
        "print(carro_1.cor)\n",
        "\n",
        "# alterando o valor da color de carro_1 para \"branco\"\n",
        "carro_1.cor = \"branco\"\n",
        "print(carro_1.cor)\n"
      ],
      "metadata": {
        "id": "kmlSLTZZ83FN"
      },
      "execution_count": null,
      "outputs": []
    },
    {
      "cell_type": "markdown",
      "source": [
        "## Encapsulamento"
      ],
      "metadata": {
        "id": "YfeMVy_-u45n"
      }
    },
    {
      "cell_type": "code",
      "execution_count": null,
      "metadata": {
        "id": "ttI8wa_ys9pF"
      },
      "outputs": [],
      "source": [
        "class Conta:\n",
        "    \n",
        "    def __init__(self, numero, saldo):\n",
        "        self.numero = numero\n",
        "        self.__saldo = saldo\n",
        "\n",
        "conta1234 = Conta(1234, 750.84)\n",
        "conta1234.numero"
      ]
    },
    {
      "cell_type": "code",
      "source": [
        "conta1234.__saldo"
      ],
      "metadata": {
        "id": "VtO6GDl4tgVv"
      },
      "execution_count": null,
      "outputs": []
    },
    {
      "cell_type": "code",
      "source": [
        "conta1234._Conta__saldo"
      ],
      "metadata": {
        "id": "fFhQ25KZtjpa"
      },
      "execution_count": null,
      "outputs": []
    },
    {
      "cell_type": "code",
      "source": [
        "dir(conta1234)"
      ],
      "metadata": {
        "id": "YorKSJWntoXr"
      },
      "execution_count": null,
      "outputs": []
    },
    {
      "cell_type": "code",
      "source": [
        "conta1234.__saldo = 1000"
      ],
      "metadata": {
        "id": "EEV6b-z0tsPN"
      },
      "execution_count": null,
      "outputs": []
    },
    {
      "cell_type": "code",
      "source": [
        "conta1234._Conta__saldo"
      ],
      "metadata": {
        "id": "3kCOOiaEtucG"
      },
      "execution_count": null,
      "outputs": []
    },
    {
      "cell_type": "code",
      "source": [
        "dir(conta1234)"
      ],
      "metadata": {
        "id": "yl0aAaJZtxOv"
      },
      "execution_count": null,
      "outputs": []
    },
    {
      "cell_type": "code",
      "source": [
        "class Conta:\n",
        "\n",
        "    def __init__(self, numero, saldo):\n",
        "        self.__numero = numero\n",
        "        self.__saldo = saldo\n",
        "\n",
        "    def consulta_saldo(self):\n",
        "        return self.__saldo\n",
        "\n",
        "conta1234 = Conta(1234, 750.84)\n",
        "conta1234.consulta_saldo()"
      ],
      "metadata": {
        "id": "4n21jdWjt7lA"
      },
      "execution_count": null,
      "outputs": []
    },
    {
      "cell_type": "markdown",
      "source": [
        "## Herança"
      ],
      "metadata": {
        "id": "EDgokm7Iuz9r"
      }
    },
    {
      "cell_type": "code",
      "source": [
        "# Classe Pessoa\n",
        "class Pessoa:\n",
        "\n",
        "    def __init__(self, nome, login, senha):\n",
        "        self.__nome = nome\n",
        "        self.__login = login\n",
        "        self.__senha = senha\n",
        "\n",
        "    def consulta_nome(self):\n",
        "        return self.__nome\n",
        "\n",
        "# Classe Aluno\n",
        "class Aluno(Pessoa):\n",
        "\n",
        "    def __init__(self, nome, login, senha, curso):\n",
        "        Pessoa.__init__(self, nome, login, senha)\n",
        "        self.__curso = curso\n",
        "\n",
        "    def consulta_curso(self):\n",
        "        return self.__curso\n",
        "\n",
        "# Classe Professor\n",
        "class Professor(Pessoa):\n",
        "\n",
        "    def __init__(self, nome, login, senha, titulacao):\n",
        "        Pessoa.__init__(self, nome, login, senha)\n",
        "        self.__titulacao = titulacao\n",
        "\n",
        "    def consulta_titulacao(self):\n",
        "        return self.__titulacao"
      ],
      "metadata": {
        "id": "SDMJT6CzuzGn"
      },
      "execution_count": null,
      "outputs": []
    },
    {
      "cell_type": "code",
      "source": [
        "pessoa1 = Pessoa('Maria', 'mary', 'm123')\n",
        "print(pessoa1.consulta_nome())\n",
        "\n",
        "aluna1 = Aluno('Viviane', 'vivi', 'v123', 'Informática') \n",
        "print(aluna1.consulta_nome())\n",
        "print(aluna1.consulta_curso())\n",
        "\n",
        "prof1 = Professor('Tatiana', 'tati', 't123', 'Doutorado')\n",
        "print(prof1.consulta_nome())\n",
        "print(prof1.consulta_titulacao())"
      ],
      "metadata": {
        "id": "uyI37OpHvTDH"
      },
      "execution_count": null,
      "outputs": []
    },
    {
      "cell_type": "markdown",
      "source": [
        "## Polimorfismo"
      ],
      "metadata": {
        "id": "47lxBkR3wGIH"
      }
    },
    {
      "cell_type": "code",
      "source": [
        "class EntradaUniversidade:\n",
        "\n",
        "    def __init__(self):\n",
        "        pass\n",
        "\n",
        "    def permite_entrada(self, pessoa):\n",
        "        print(\"Pode entrar, \" + pessoa.consulta_nome())\n",
        "\n",
        "entrada = EntradaUniversidade()\n",
        "entrada.permite_entrada(prof1)"
      ],
      "metadata": {
        "id": "zxmVKF3KwHua"
      },
      "execution_count": null,
      "outputs": []
    },
    {
      "cell_type": "code",
      "source": [
        "# Classe Coordenador\n",
        "class Coordenador(Pessoa):\n",
        "    def __init__(self, nome, login, senha):\n",
        "        Pessoa.__init__(self, nome, login, senha)\n",
        "\n",
        "coord1 = Coordenador('Marcos', 'mk', 'm123')\n",
        "entrada.permite_entrada(coord1)"
      ],
      "metadata": {
        "id": "LvfgwoEIwdhb"
      },
      "execution_count": null,
      "outputs": []
    },
    {
      "cell_type": "markdown",
      "source": [
        "## Abstração"
      ],
      "metadata": {
        "id": "E-lratgzyBTy"
      }
    },
    {
      "cell_type": "code",
      "source": [
        "import abc\n",
        "\n",
        "class Pessoa(abc.ABC):\n",
        "\n",
        "    def __init__(self, nome, login, senha):\n",
        "        self.nome = nome\n",
        "        self.login = login\n",
        "        self.senha = senha\n",
        "\n",
        "    @abc.abstractmethod\n",
        "    def consulta_nome(self):\n",
        "        raise NotImplementedError()"
      ],
      "metadata": {
        "id": "tgXHAVGFyBbV"
      },
      "execution_count": null,
      "outputs": []
    },
    {
      "cell_type": "code",
      "source": [
        "pessoa1 = Pessoa()"
      ],
      "metadata": {
        "id": "MChVWhgfyGK2"
      },
      "execution_count": null,
      "outputs": []
    },
    {
      "cell_type": "markdown",
      "source": [
        "## Associação, Agregação e Composição"
      ],
      "metadata": {
        "id": "87vKonSmyJ2E"
      }
    },
    {
      "cell_type": "code",
      "source": [
        "class Aluno(Pessoa):\n",
        "    \n",
        "    def __init__(self, nome, login, senha, curso, orientador):\n",
        "        Pessoa.__init__(self, nome, login, senha)\n",
        "        self.__curso = curso\n",
        "        self.__orientador = orientador\n",
        "    \n",
        "    def consulta_curso(self):\n",
        "        return self.__curso\n",
        "    \n",
        "    def consulta_orientador(self):\n",
        "        return self.__orientador\n",
        "    \n",
        "    def consulta_nome(self):\n",
        "        return self.nome"
      ],
      "metadata": {
        "id": "mXI6wibJyJ8l"
      },
      "execution_count": null,
      "outputs": []
    },
    {
      "cell_type": "code",
      "source": [
        "professorMarcos = Professor('Marcos', 'mk', 'm123', 'Doutor')\n",
        "\n",
        "novoAluno = Aluno('Isabela', 'isa', 'i123', 'Engenharia', professorMarcos)"
      ],
      "metadata": {
        "id": "HxPambyVyPUA"
      },
      "execution_count": null,
      "outputs": []
    },
    {
      "cell_type": "code",
      "source": [
        "import datetime\n",
        "\n",
        "class Historico():\n",
        "\n",
        "    def __init__(self):\n",
        "        self.__data_matricula = datetime.datetime.today()\n",
        "        self.__ocorrencias = []\n",
        "\n",
        "    def imprime(self):\n",
        "        print(\"Matriculado em {}\".format(self.__data_matricula))\n",
        "        print(\"Ocorrências:\")\n",
        "        for o in self.__ocorrencias:\n",
        "            print(\"- \", o)\n",
        "            \n",
        "    def add_ocorrencia(self, ocorrencia):\n",
        "        self.__ocorrencias.append(ocorrencia)"
      ],
      "metadata": {
        "id": "jUQeOllYydyu"
      },
      "execution_count": null,
      "outputs": []
    },
    {
      "cell_type": "code",
      "source": [
        "class Aluno(Pessoa):\n",
        "\n",
        "    def __init__(self, nome, login, senha, curso, orientador):\n",
        "        Pessoa.__init__(self, nome, login, senha)\n",
        "        self.__curso = curso\n",
        "        self.__orientador = orientador\n",
        "        self.__historico = Historico()\n",
        "\n",
        "    def consulta_curso(self):\n",
        "        return self.__curso\n",
        "\n",
        "    def consulta_orientador(self):\n",
        "        return self.__orientador\n",
        "\n",
        "    def consulta_nome(self):\n",
        "        return self.__nome\n",
        "\n",
        "    def gera_ocorrencia(self, ocorrencia):\n",
        "        self.__historico.add_ocorrencia(ocorrencia)\n",
        "        \n",
        "    def consulta_historico(self):\n",
        "        self.__historico.imprime()"
      ],
      "metadata": {
        "id": "CSZRYxDHyzAS"
      },
      "execution_count": null,
      "outputs": []
    },
    {
      "cell_type": "code",
      "source": [
        "novoAluno = Aluno('Isabela', 'isa', 'i123', 'Engenharia', professorMarcos)\n",
        "novoAluno.gera_ocorrencia(\"Matriculou-se em Calculo 1\")\n",
        "novoAluno.gera_ocorrencia(\"Nota final de Calculo 1: 9,7\")\n",
        "novoAluno.consulta_historico()"
      ],
      "metadata": {
        "id": "E32xMVEDzLER"
      },
      "execution_count": null,
      "outputs": []
    }
  ]
}