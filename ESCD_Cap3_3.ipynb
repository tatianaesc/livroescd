{
  "nbformat": 4,
  "nbformat_minor": 0,
  "metadata": {
    "colab": {
      "name": "ESCD-Cap3.3.ipynb",
      "provenance": [],
      "toc_visible": true
    },
    "kernelspec": {
      "name": "python3",
      "display_name": "Python 3"
    },
    "language_info": {
      "name": "python"
    }
  },
  "cells": [
    {
      "cell_type": "markdown",
      "source": [
        "# Livro Engenharia de Software para Ciência de Dados\n",
        "\n",
        "---\n",
        "\n",
        "## Capítulo 3. Programação em Ciência de Dados\n",
        "### 3.3. Boas Práticas de Projeto e Construção de Sistemas"
      ],
      "metadata": {
        "id": "ugQEtRTCW5Ly"
      }
    },
    {
      "cell_type": "markdown",
      "source": [
        "## SOLID"
      ],
      "metadata": {
        "id": "TgfO8xRrYzGv"
      }
    },
    {
      "cell_type": "markdown",
      "source": [
        "### Princípio da Responsabilidade Única"
      ],
      "metadata": {
        "id": "OexdxIlfZnKT"
      }
    },
    {
      "cell_type": "code",
      "execution_count": null,
      "metadata": {
        "id": "bl4HrTWUWyKz"
      },
      "outputs": [],
      "source": [
        "class Animal:\n",
        "\n",
        "    def __init__(self, nome):\n",
        "        self.__nome = nome\n",
        "\n",
        "    def get_nome(self):\n",
        "        return self.__nome\n",
        "        \n",
        "    def salvar(self):\n",
        "        # Salva o animal no banco de dados\n",
        "        pass"
      ]
    },
    {
      "cell_type": "code",
      "source": [
        "class Animal:\n",
        "\n",
        "    def __init__(self, nome):\n",
        "        self.__nome = nome\n",
        "\n",
        "    def get_nome(self):\n",
        "        return self.__nome\n",
        "\n",
        "\n",
        "class AnimalDAO:\n",
        "    def salvar(self, animal: Animal):\n",
        "        # Salva o animal no banco de dados\n",
        "        pass\n"
      ],
      "metadata": {
        "id": "v1NSAyoMZfbr"
      },
      "execution_count": null,
      "outputs": []
    },
    {
      "cell_type": "markdown",
      "source": [
        "### Princípio Aberto/Fechado"
      ],
      "metadata": {
        "id": "dXdAhzoXZra6"
      }
    },
    {
      "cell_type": "code",
      "source": [
        "class Animal:\n",
        "\n",
        "    def __init__(self, nome):\n",
        "        self.__nome = nome\n",
        "        \n",
        "    def get_nome(self):\n",
        "        return self.__nome\n",
        "\n",
        "    def faz_som(self):\n",
        "        if self.__nome == \"Cachorro\":\n",
        "            print(\"Au Au\")\n",
        "        if self.__nome == \"Gato\":\n",
        "            print(\"Miau\")"
      ],
      "metadata": {
        "id": "H61cjaEDZtZB"
      },
      "execution_count": null,
      "outputs": []
    },
    {
      "cell_type": "code",
      "source": [
        "class Animal:\n",
        "\n",
        "    def __init__(self, nome):\n",
        "        self.__nome = nome\n",
        "\n",
        "    def get_nome(self):\n",
        "        return self.__nome\n",
        "\n",
        "    def faz_som(self):\n",
        "        pass\n",
        "\n",
        "\n",
        "class Cachorro(Animal):\n",
        "    def faz_som(self):\n",
        "        print(\"Au Au\")\n",
        "\n",
        "\n",
        "class Gato(Animal):\n",
        "    def faz_som(self):\n",
        "        print(\"Miau\")"
      ],
      "metadata": {
        "id": "c3a_RoEuZtc1"
      },
      "execution_count": null,
      "outputs": []
    },
    {
      "cell_type": "markdown",
      "source": [
        "### Princípio da Substituição de Liskov"
      ],
      "metadata": {
        "id": "A-8HckJQa-BW"
      }
    },
    {
      "cell_type": "code",
      "source": [
        "class Animal:\n",
        "    pass\n",
        "\n",
        "\n",
        "class Cachorro(Animal):\n",
        "\n",
        "    def latir(self):\n",
        "        print(\"Au Au\")\n",
        "\n",
        "\n",
        "class Gato(Animal):\n",
        "\n",
        "    def miar(self):\n",
        "        print(\"Miau\")\n",
        "\n",
        "\n",
        "class Dono:\n",
        "\n",
        "    def passear(cachorro: Cachorro):\n",
        "        cachorro.latir()"
      ],
      "metadata": {
        "id": "5f1F4FVaa_9v"
      },
      "execution_count": null,
      "outputs": []
    },
    {
      "cell_type": "code",
      "source": [
        "class Animal:\n",
        "    \n",
        "    def faz_som(self):\n",
        "        pass \n",
        "\n",
        "class Cachorro(Animal):\n",
        "\n",
        "    def faz_som(self):\n",
        "        __latir()\n",
        "\n",
        "    def __latir(self):\n",
        "        print(\"Au Au\")\n",
        "\n",
        "\n",
        "class Gato(Animal):\n",
        "\n",
        "    def faz_som(self):\n",
        "        __miar()\n",
        "    \n",
        "    def __miar(self):\n",
        "        print(\"Miau\")\n",
        "\n",
        "\n",
        "class Dono:\n",
        "\n",
        "    def passear(animal: Animal):\n",
        "        animal.faz_som()"
      ],
      "metadata": {
        "id": "ODN8t9Mfbnx2"
      },
      "execution_count": null,
      "outputs": []
    },
    {
      "cell_type": "markdown",
      "source": [
        "### Princípio da Segregação de Interfaces"
      ],
      "metadata": {
        "id": "rWqkFWRPcDbx"
      }
    },
    {
      "cell_type": "code",
      "source": [
        "class ImpressoraFazTudo:\n",
        "\n",
        "    def imprime(self):\n",
        "        pass\n",
        "\n",
        "    def digitaliza(self):\n",
        "        pass\n",
        "        \n",
        "    def envia_fax(self):\n",
        "        pass"
      ],
      "metadata": {
        "id": "Z5wjLE97cN2U"
      },
      "execution_count": null,
      "outputs": []
    },
    {
      "cell_type": "code",
      "source": [
        "class ImpressoraMultifuncional(ImpressoraFazTudo):\n",
        "\n",
        "    def imprime(self):\n",
        "        pass\n",
        "\n",
        "    def escaneia(self):\n",
        "        pass\n",
        "        \n",
        "    def envia_fax(self):\n",
        "        pass"
      ],
      "metadata": {
        "id": "6y6swEsKcQQL"
      },
      "execution_count": null,
      "outputs": []
    },
    {
      "cell_type": "code",
      "source": [
        "class Impressora:\n",
        "\n",
        "    def imprime(self):\n",
        "        pass\n",
        "        \n",
        "\n",
        "class Digitalizadora:\n",
        "\n",
        "    def digitaliza(self):\n",
        "        pass\n",
        "        \n",
        "class Fax:\n",
        "    \n",
        "    def envia_fax(self):\n",
        "        pass"
      ],
      "metadata": {
        "id": "4NrHEtCLcQSj"
      },
      "execution_count": null,
      "outputs": []
    },
    {
      "cell_type": "code",
      "source": [
        "class ImpressoraMultifuncional(Impressora, Digitalizadora, Fax):\n",
        "\n",
        "    def imprime(self):\n",
        "        pass\n",
        "\n",
        "    def escaneia(self):\n",
        "        pass\n",
        "\n",
        "    def envia_fax(self):\n",
        "        pass\n",
        "\n",
        "\n",
        "# A classe ImpressoraPadrao pode utilizar somente o método que precisa:\n",
        "class ImpressoraPadrao(Impressora):\n",
        "\n",
        "    def imprime(self):\n",
        "        pass"
      ],
      "metadata": {
        "id": "maa4xR_pcQUx"
      },
      "execution_count": null,
      "outputs": []
    },
    {
      "cell_type": "markdown",
      "source": [
        "### Princípio da Inversão de Dependências"
      ],
      "metadata": {
        "id": "yj32dn-pchnp"
      }
    },
    {
      "cell_type": "code",
      "source": [
        "class Animal:\n",
        "\n",
        "    def faz_som(self):\n",
        "        pass\n",
        "\n",
        "\n",
        "class Cachorro(Animal):\n",
        "\n",
        "    def faz_som(self):\n",
        "        latir()    \n",
        "\n",
        "    def latir(self):\n",
        "        print(\"Au Au\")    \n",
        "\n",
        "\n",
        "class Gato(Animal):\n",
        "\n",
        "    def faz_som(self):\n",
        "        miar()    \n",
        "\n",
        "    def miar(self):\n",
        "        print(\"Miau\")"
      ],
      "metadata": {
        "id": "IvBU-KiyckUA"
      },
      "execution_count": null,
      "outputs": []
    },
    {
      "cell_type": "code",
      "source": [
        "class Dono: \n",
        "    \n",
        "    def passear(cachorro: Cachorro): \n",
        "        cachorro.latir()  "
      ],
      "metadata": {
        "id": "elBQpPv_ckWm"
      },
      "execution_count": null,
      "outputs": []
    },
    {
      "cell_type": "code",
      "source": [
        "class Dono: \n",
        "    \n",
        "  def passear(animal: Animal): \n",
        "        animal.faz_som() "
      ],
      "metadata": {
        "id": "3mEgwyiockb3"
      },
      "execution_count": null,
      "outputs": []
    },
    {
      "cell_type": "markdown",
      "source": [
        "## Guia de Estilos"
      ],
      "metadata": {
        "id": "zGLlCO2mcx5N"
      }
    },
    {
      "cell_type": "code",
      "source": [
        "import this"
      ],
      "metadata": {
        "id": "Or2bZKvJc2Wv",
        "outputId": "099e84b3-eb2c-46d9-94dd-a51f02372ff6",
        "colab": {
          "base_uri": "https://localhost:8080/"
        }
      },
      "execution_count": null,
      "outputs": [
        {
          "output_type": "stream",
          "name": "stdout",
          "text": [
            "The Zen of Python, by Tim Peters\n",
            "\n",
            "Beautiful is better than ugly.\n",
            "Explicit is better than implicit.\n",
            "Simple is better than complex.\n",
            "Complex is better than complicated.\n",
            "Flat is better than nested.\n",
            "Sparse is better than dense.\n",
            "Readability counts.\n",
            "Special cases aren't special enough to break the rules.\n",
            "Although practicality beats purity.\n",
            "Errors should never pass silently.\n",
            "Unless explicitly silenced.\n",
            "In the face of ambiguity, refuse the temptation to guess.\n",
            "There should be one-- and preferably only one --obvious way to do it.\n",
            "Although that way may not be obvious at first unless you're Dutch.\n",
            "Now is better than never.\n",
            "Although never is often better than *right* now.\n",
            "If the implementation is hard to explain, it's a bad idea.\n",
            "If the implementation is easy to explain, it may be a good idea.\n",
            "Namespaces are one honking great idea -- let's do more of those!\n"
          ]
        }
      ]
    }
  ]
}